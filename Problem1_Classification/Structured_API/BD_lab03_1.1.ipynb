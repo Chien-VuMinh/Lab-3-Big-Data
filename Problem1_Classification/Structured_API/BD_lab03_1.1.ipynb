{
  "cells": [
    {
      "cell_type": "markdown",
      "source": [
        "# Problem1_Classification - Structured_API"
      ],
      "metadata": {
        "id": "lLka1zwGmYPA"
      }
    },
    {
      "cell_type": "code",
      "execution_count": 1,
      "metadata": {
        "id": "l81SdzTJjeL4"
      },
      "outputs": [],
      "source": [
        "from pyspark.sql import SparkSession\n",
        "from pyspark.ml.feature import VectorAssembler, StandardScaler\n",
        "from pyspark.sql.functions import col, sum\n",
        "from pyspark.ml.classification import LogisticRegression\n",
        "from pyspark.ml.evaluation import BinaryClassificationEvaluator, MulticlassClassificationEvaluator\n",
        "from pyspark.sql import functions as F"
      ]
    },
    {
      "cell_type": "markdown",
      "source": [
        "## Tạo session"
      ],
      "metadata": {
        "id": "oO5YlWZnoZK6"
      }
    },
    {
      "cell_type": "code",
      "execution_count": 2,
      "metadata": {
        "id": "29KO265TjeL6"
      },
      "outputs": [],
      "source": [
        "spark = SparkSession.builder.appName(\"BD_Lab03_1.1\").getOrCreate()"
      ]
    },
    {
      "cell_type": "markdown",
      "source": [
        "## Nhập dữ liệu"
      ],
      "metadata": {
        "id": "HDPWckXBoc-z"
      }
    },
    {
      "cell_type": "code",
      "execution_count": 3,
      "metadata": {
        "id": "ulxS0eJ4jeL6"
      },
      "outputs": [],
      "source": [
        "path = \"/content/creditcard.csv\"\n",
        "data = spark.read.csv(path, header=True, inferSchema=True)"
      ]
    },
    {
      "cell_type": "code",
      "execution_count": 4,
      "metadata": {
        "colab": {
          "base_uri": "https://localhost:8080/"
        },
        "id": "6KtieWREjeL7",
        "outputId": "67acd30b-5e1e-4812-9f49-43449df00de4"
      },
      "outputs": [
        {
          "output_type": "stream",
          "name": "stdout",
          "text": [
            "+----+------------------+-------------------+----------------+------------------+-------------------+-------------------+-------------------+------------------+------------------+-------------------+------------------+------------------+------------------+------------------+------------------+------------------+------------------+-------------------+------------------+-------------------+--------------------+-------------------+------------------+------------------+------------------+------------------+--------------------+-------------------+------+-----+\n",
            "|Time|                V1|                 V2|              V3|                V4|                 V5|                 V6|                 V7|                V8|                V9|                V10|               V11|               V12|               V13|               V14|               V15|               V16|               V17|                V18|               V19|                V20|                 V21|                V22|               V23|               V24|               V25|               V26|                 V27|                V28|Amount|Class|\n",
            "+----+------------------+-------------------+----------------+------------------+-------------------+-------------------+-------------------+------------------+------------------+-------------------+------------------+------------------+------------------+------------------+------------------+------------------+------------------+-------------------+------------------+-------------------+--------------------+-------------------+------------------+------------------+------------------+------------------+--------------------+-------------------+------+-----+\n",
            "| 0.0|  -1.3598071336738|-0.0727811733098497|2.53634673796914|  1.37815522427443| -0.338320769942518|  0.462387777762292|  0.239598554061257|0.0986979012610507| 0.363786969611213| 0.0907941719789316|-0.551599533260813|-0.617800855762348|-0.991389847235408|-0.311169353699879|  1.46817697209427|-0.470400525259478| 0.207971241929242| 0.0257905801985591| 0.403992960255733|  0.251412098239705|  -0.018306777944153|  0.277837575558899|-0.110473910188767|0.0669280749146731| 0.128539358273528|-0.189114843888824|   0.133558376740387|-0.0210530534538215|149.62|    0|\n",
            "| 0.0|  1.19185711131486|   0.26615071205963|0.16648011335321| 0.448154078460911| 0.0600176492822243|-0.0823608088155687|-0.0788029833323113|0.0851016549148104|-0.255425128109186| -0.166974414004614|  1.61272666105479|  1.06523531137287|  0.48909501589608|-0.143772296441519| 0.635558093258208| 0.463917041022171|-0.114804663102346| -0.183361270123994|-0.145783041325259|-0.0690831352230203|  -0.225775248033138| -0.638671952771851| 0.101288021253234|-0.339846475529127| 0.167170404418143| 0.125894532368176|-0.00898309914322813| 0.0147241691924927|  2.69|    0|\n",
            "| 1.0| -1.35835406159823|  -1.34016307473609|1.77320934263119| 0.379779593034328| -0.503198133318193|   1.80049938079263|  0.791460956450422| 0.247675786588991| -1.51465432260583|  0.207642865216696| 0.624501459424895| 0.066083685268831| 0.717292731410831|-0.165945922763554|  2.34586494901581| -2.89008319444231|  1.10996937869599| -0.121359313195888| -2.26185709530414|  0.524979725224404|   0.247998153469754|  0.771679401917229| 0.909412262347719|-0.689280956490685|-0.327641833735251|-0.139096571514147| -0.0553527940384261|-0.0597518405929204|378.66|    0|\n",
            "| 1.0|-0.966271711572087| -0.185226008082898|1.79299333957872|-0.863291275036453|-0.0103088796030823|   1.24720316752486|   0.23760893977178| 0.377435874652262| -1.38702406270197|-0.0549519224713749|-0.226487263835401| 0.178228225877303| 0.507756869957169| -0.28792374549456|-0.631418117709045|  -1.0596472454325|-0.684092786345479|   1.96577500349538|  -1.2326219700892| -0.208037781160366|  -0.108300452035545|0.00527359678253453|-0.190320518742841| -1.17557533186321| 0.647376034602038|-0.221928844458407|  0.0627228487293033| 0.0614576285006353| 123.5|    0|\n",
            "| 2.0| -1.15823309349523|  0.877736754848451|  1.548717846511| 0.403033933955121| -0.407193377311653| 0.0959214624684256|  0.592940745385545|-0.270532677192282| 0.817739308235294|  0.753074431976354|-0.822842877946363|  0.53819555014995|   1.3458515932154| -1.11966983471731| 0.175121130008994|-0.451449182813529|-0.237033239362776|-0.0381947870352842| 0.803486924960175|  0.408542360392758|-0.00943069713232919|   0.79827849458971|-0.137458079619063| 0.141266983824769|-0.206009587619756| 0.502292224181569|   0.219422229513348|  0.215153147499206| 69.99|    0|\n",
            "+----+------------------+-------------------+----------------+------------------+-------------------+-------------------+-------------------+------------------+------------------+-------------------+------------------+------------------+------------------+------------------+------------------+------------------+------------------+-------------------+------------------+-------------------+--------------------+-------------------+------------------+------------------+------------------+------------------+--------------------+-------------------+------+-----+\n",
            "only showing top 5 rows\n",
            "\n"
          ]
        }
      ],
      "source": [
        "data.show(5)"
      ]
    },
    {
      "cell_type": "markdown",
      "source": [
        "## Loại bỏ những cột có giá trị bị thiếu và các cột bị trùng lắp"
      ],
      "metadata": {
        "id": "_EnUj9atoh4k"
      }
    },
    {
      "cell_type": "code",
      "source": [
        "data.count()"
      ],
      "metadata": {
        "id": "oLlcqnNJolHg",
        "colab": {
          "base_uri": "https://localhost:8080/"
        },
        "outputId": "5b092132-1770-41bb-913a-7b2968dc6da4"
      },
      "execution_count": 5,
      "outputs": [
        {
          "output_type": "execute_result",
          "data": {
            "text/plain": [
              "284807"
            ]
          },
          "metadata": {},
          "execution_count": 5
        }
      ]
    },
    {
      "cell_type": "code",
      "execution_count": 6,
      "metadata": {
        "colab": {
          "base_uri": "https://localhost:8080/"
        },
        "id": "lCx8aeacjeL8",
        "outputId": "941532fa-4c3f-45cd-e416-cf909c81d460"
      },
      "outputs": [
        {
          "output_type": "execute_result",
          "data": {
            "text/plain": [
              "284807"
            ]
          },
          "metadata": {},
          "execution_count": 6
        }
      ],
      "source": [
        "data.dropna().count()"
      ]
    },
    {
      "cell_type": "code",
      "execution_count": 7,
      "metadata": {
        "colab": {
          "base_uri": "https://localhost:8080/"
        },
        "id": "T9iwj6uAjeL8",
        "outputId": "3d6c1d48-de95-40a6-aca5-f7c85958658a"
      },
      "outputs": [
        {
          "output_type": "execute_result",
          "data": {
            "text/plain": [
              "283726"
            ]
          },
          "metadata": {},
          "execution_count": 7
        }
      ],
      "source": [
        "data.dropDuplicates().count()"
      ]
    },
    {
      "cell_type": "markdown",
      "source": [
        "## Đếm số lượng mỗi lớp"
      ],
      "metadata": {
        "id": "EnluTxgQkKLt"
      }
    },
    {
      "cell_type": "code",
      "source": [
        "data.groupBy(\"Class\").count().show()"
      ],
      "metadata": {
        "colab": {
          "base_uri": "https://localhost:8080/"
        },
        "id": "6WiDGdN0kI0m",
        "outputId": "7f5f2ba7-031f-4c7a-ed17-d1a9dd892700"
      },
      "execution_count": 8,
      "outputs": [
        {
          "output_type": "stream",
          "name": "stdout",
          "text": [
            "+-----+------+\n",
            "|Class| count|\n",
            "+-----+------+\n",
            "|    1|   492|\n",
            "|    0|284315|\n",
            "+-----+------+\n",
            "\n"
          ]
        }
      ]
    },
    {
      "cell_type": "markdown",
      "source": [
        "Bởi vì số lượng chênh lệch giữa 2 class nên chỉ lấy 500 mẫu class 0."
      ],
      "metadata": {
        "id": "6yNQmkdkly0u"
      }
    },
    {
      "cell_type": "code",
      "source": [
        "data_0 = data.filter(col(\"Class\") == 0).orderBy(F.rand(seed=42)).limit(500)\n",
        "data_1 = data.filter(col(\"Class\") == 1)\n",
        "data = data_0.union(data_1)\n",
        "data = data.orderBy(F.rand())"
      ],
      "metadata": {
        "id": "3z3jHlCdmf8E"
      },
      "execution_count": 9,
      "outputs": []
    },
    {
      "cell_type": "code",
      "source": [
        "data.groupBy(\"Class\").count().show()"
      ],
      "metadata": {
        "colab": {
          "base_uri": "https://localhost:8080/"
        },
        "id": "onVOtapjpZ7J",
        "outputId": "30c1dec2-808b-41f6-d5b0-d63b5f16191a"
      },
      "execution_count": 10,
      "outputs": [
        {
          "output_type": "stream",
          "name": "stdout",
          "text": [
            "+-----+-----+\n",
            "|Class|count|\n",
            "+-----+-----+\n",
            "|    0|  500|\n",
            "|    1|  492|\n",
            "+-----+-----+\n",
            "\n"
          ]
        }
      ]
    },
    {
      "cell_type": "markdown",
      "source": [
        "## Kết hợp các cột số thành 1 cột vector duy nhất"
      ],
      "metadata": {
        "id": "7bgMPQOjouhK"
      }
    },
    {
      "cell_type": "code",
      "execution_count": 11,
      "metadata": {
        "id": "TFdgp2WIjeL8"
      },
      "outputs": [],
      "source": [
        "assembler = VectorAssembler(inputCols=data.columns[1:-1], outputCol=\"raw_features\")\n",
        "data = assembler.transform(data)"
      ]
    },
    {
      "cell_type": "markdown",
      "source": [
        "## Chuẩn hoá vector"
      ],
      "metadata": {
        "id": "NsrTyJfVpNpx"
      }
    },
    {
      "cell_type": "code",
      "execution_count": 12,
      "metadata": {
        "id": "za77EqUkjeL9"
      },
      "outputs": [],
      "source": [
        "scaler = StandardScaler(inputCol=\"raw_features\", outputCol=\"features\", withMean=True, withStd=True)\n",
        "scalerModel = scaler.fit(data)\n",
        "data = scalerModel.transform(data)\n",
        "\n",
        "data = data.select(\"features\", \"Class\")"
      ]
    },
    {
      "cell_type": "markdown",
      "source": [
        "## chia dữ liệu thành 2 phần train, test"
      ],
      "metadata": {
        "id": "9JLhuCtYpU3k"
      }
    },
    {
      "cell_type": "code",
      "execution_count": 13,
      "metadata": {
        "id": "HuOsv_ZQjeL9"
      },
      "outputs": [],
      "source": [
        "train, test = data.randomSplit([0.8, 0.2], seed=42)"
      ]
    },
    {
      "cell_type": "markdown",
      "source": [
        "## Sử dụng LogisticRegression"
      ],
      "metadata": {
        "id": "QazmlLTtpYpK"
      }
    },
    {
      "cell_type": "code",
      "execution_count": 14,
      "metadata": {
        "id": "UiuMQ_X-jeL9"
      },
      "outputs": [],
      "source": [
        "lr = LogisticRegression(featuresCol=\"features\", labelCol=\"Class\")\n",
        "model = lr.fit(train)"
      ]
    },
    {
      "cell_type": "markdown",
      "source": [
        "## Đánh giá mô hình"
      ],
      "metadata": {
        "id": "FZ7hCQH8wZXv"
      }
    },
    {
      "cell_type": "code",
      "execution_count": 15,
      "metadata": {
        "colab": {
          "base_uri": "https://localhost:8080/"
        },
        "id": "DPqAYmLVjeL9",
        "outputId": "e4ede0ce-569e-46bf-bd7d-c60f86d00624"
      },
      "outputs": [
        {
          "output_type": "stream",
          "name": "stdout",
          "text": [
            "Coefficients:\n",
            "  V1                  : 0.272778\n",
            "  V2                  : 0.194965\n",
            "  V3                  : -0.074244\n",
            "  V4                  : 2.313173\n",
            "  V5                  : 0.377402\n",
            "  V6                  : -0.559871\n",
            "  V7                  : 0.498493\n",
            "  V8                  : -1.895221\n",
            "  V9                  : -0.302441\n",
            "  V10                 : -1.119511\n",
            "  V11                 : 0.907764\n",
            "  V12                 : -3.060434\n",
            "  V13                 : -0.306947\n",
            "  V14                 : -2.449704\n",
            "  V15                 : -0.143571\n",
            "  V16                 : -1.055626\n",
            "  V17                 : 0.705810\n",
            "  V18                 : 0.209459\n",
            "  V19                 : 0.219280\n",
            "  V20                 : -0.212172\n",
            "  V21                 : 0.739707\n",
            "  V22                 : 0.531503\n",
            "  V23                 : -0.070085\n",
            "  V24                 : -0.046514\n",
            "  V25                 : 0.176367\n",
            "  V26                 : -0.393871\n",
            "  V27                 : -0.206658\n",
            "  V28                 : 0.344169\n",
            "  Amount              : 0.205148\n",
            "Intercept: 3.990212\n"
          ]
        }
      ],
      "source": [
        "summary = model.summary\n",
        "\n",
        "coefficients = model.coefficients\n",
        "feature_names = assembler.getInputCols()\n",
        "\n",
        "print(\"Coefficients:\")\n",
        "for name, coef in zip(feature_names, coefficients):\n",
        "    print(f\"  {name:<20}: {coef:6f}\")\n",
        "\n",
        "print(f\"Intercept: {model.intercept:6f}\")"
      ]
    },
    {
      "cell_type": "code",
      "source": [
        "predictions = model.transform(test)"
      ],
      "metadata": {
        "id": "yWfweepEnQRY"
      },
      "execution_count": 16,
      "outputs": []
    },
    {
      "cell_type": "code",
      "source": [
        "eval_acc = MulticlassClassificationEvaluator(labelCol=\"Class\", predictionCol=\"prediction\", metricName=\"accuracy\")\n",
        "eval_precision = MulticlassClassificationEvaluator(labelCol=\"Class\", predictionCol=\"prediction\", metricName=\"weightedPrecision\")\n",
        "eval_recall = MulticlassClassificationEvaluator(labelCol=\"Class\", predictionCol=\"prediction\", metricName=\"weightedRecall\")\n",
        "eval_auc = BinaryClassificationEvaluator(labelCol=\"Class\", rawPredictionCol=\"rawPrediction\", metricName=\"areaUnderROC\")\n",
        "\n",
        "accuracy = eval_acc.evaluate(predictions)\n",
        "precision = eval_precision.evaluate(predictions)\n",
        "recall = eval_recall.evaluate(predictions)\n",
        "auc = eval_auc.evaluate(predictions)\n"
      ],
      "metadata": {
        "id": "edsRCmotnq1i"
      },
      "execution_count": null,
      "outputs": []
    },
    {
      "cell_type": "code",
      "source": [
        "print(f\"Accuracy: {accuracy:6f}\")\n",
        "print(f\"Precision: {precision:6f}\")\n",
        "print(f\"Recall: {recall:6f}\")\n",
        "print(f\"AUC: {auc:6f}\")"
      ],
      "metadata": {
        "id": "r9quOUVXoI3w",
        "colab": {
          "base_uri": "https://localhost:8080/"
        },
        "outputId": "25ce83d0-3ec0-417f-d6da-10215c14e1f0"
      },
      "execution_count": 18,
      "outputs": [
        {
          "output_type": "stream",
          "name": "stdout",
          "text": [
            "Accuracy: 0.943396\n",
            "Precision: 0.943677\n",
            "Recall: 0.943396\n",
            "AUC: 0.975073\n"
          ]
        }
      ]
    },
    {
      "cell_type": "code",
      "source": [],
      "metadata": {
        "id": "XiesEvKBDJYH"
      },
      "execution_count": null,
      "outputs": []
    }
  ],
  "metadata": {
    "kernelspec": {
      "display_name": "base",
      "language": "python",
      "name": "python3"
    },
    "language_info": {
      "codemirror_mode": {
        "name": "ipython",
        "version": 3
      },
      "file_extension": ".py",
      "mimetype": "text/x-python",
      "name": "python",
      "nbconvert_exporter": "python",
      "pygments_lexer": "ipython3",
      "version": "3.12.9"
    },
    "colab": {
      "provenance": []
    }
  },
  "nbformat": 4,
  "nbformat_minor": 0
}