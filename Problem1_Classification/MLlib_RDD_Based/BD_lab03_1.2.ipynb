{
 "cells": [
  {
   "cell_type": "markdown",
   "metadata": {},
   "source": [
    "### Import Libraries"
   ]
  },
  {
   "cell_type": "code",
   "execution_count": 39,
   "metadata": {},
   "outputs": [],
   "source": [
    "from pyspark.sql import SparkSession\n",
    "from pyspark.mllib.regression import LabeledPoint\n",
    "from pyspark.mllib.classification import LogisticRegressionWithLBFGS\n",
    "from pyspark.mllib.classification import LogisticRegressionWithSGD\n",
    "from pyspark.mllib.evaluation import MulticlassMetrics, BinaryClassificationMetrics\n",
    "import random"
   ]
  },
  {
   "cell_type": "markdown",
   "metadata": {},
   "source": [
    "### Create session"
   ]
  },
  {
   "cell_type": "code",
   "execution_count": 18,
   "metadata": {},
   "outputs": [],
   "source": [
    "spark = SparkSession.builder \\\n",
    "    .appName(\"mllib_classification\") \\\n",
    "    .config(\"spark.driver.host\", \"localhost\") \\\n",
    "    .getOrCreate()"
   ]
  },
  {
   "cell_type": "markdown",
   "metadata": {},
   "source": [
    "### Prepare data and preprocessing"
   ]
  },
  {
   "cell_type": "code",
   "execution_count": null,
   "metadata": {},
   "outputs": [],
   "source": [
    "file_path = \"creditcard.csv\""
   ]
  },
  {
   "cell_type": "code",
   "execution_count": 23,
   "metadata": {},
   "outputs": [],
   "source": [
    "data = spark.read.csv(file_path, header=True, inferSchema=True)"
   ]
  },
  {
   "cell_type": "code",
   "execution_count": 24,
   "metadata": {},
   "outputs": [],
   "source": [
    "data_drop_duplicates = data.dropDuplicates()"
   ]
  },
  {
   "cell_type": "code",
   "execution_count": 28,
   "metadata": {},
   "outputs": [],
   "source": [
    "def parse_line(row):\n",
    "    \"\"\"Convert a row to a LabeledPoint\"\"\"\n",
    "    features = [row[i] for i in range(len(row)-1)]  # All columns except Class\n",
    "    label = row[-1]  # Class is the label\n",
    "    return LabeledPoint(label, features)"
   ]
  },
  {
   "cell_type": "code",
   "execution_count": 30,
   "metadata": {},
   "outputs": [
    {
     "name": "stderr",
     "output_type": "stream",
     "text": [
      "[Stage 35:=======>                                                  (1 + 7) / 8]\r"
     ]
    }
   ],
   "source": [
    "rdd_data = data_drop_duplicates.rdd.map(parse_line)"
   ]
  },
  {
   "cell_type": "code",
   "execution_count": null,
   "metadata": {},
   "outputs": [
    {
     "name": "stderr",
     "output_type": "stream",
     "text": [
      "                                                                                \r"
     ]
    }
   ],
   "source": [
    "class_0_rdd = rdd_data.filter(lambda lp: lp.label == 0.0)  \n",
    "\n",
    "sampled_class_0 = spark.sparkContext.parallelize(\n",
    "    class_0_rdd.takeSample(withReplacement=False, num=500, seed=42)\n",
    ")\n",
    "\n",
    "class_1_rdd = rdd_data.filter(lambda lp: lp.label == 1.0)\n",
    "\n",
    "balanced_rdd = sampled_class_0.union(class_1_rdd)\n",
    "\n",
    "shuffled_rdd = balanced_rdd.map(lambda lp: (random.random(), lp)) \\\n",
    "                          .sortByKey() \\\n",
    "                          .map(lambda x: x[1])"
   ]
  },
  {
   "cell_type": "markdown",
   "metadata": {},
   "source": [
    "### Split data to train and test"
   ]
  },
  {
   "cell_type": "code",
   "execution_count": 34,
   "metadata": {},
   "outputs": [],
   "source": [
    "train_data, test_data = shuffled_rdd.randomSplit([0.8, 0.2], seed=42)"
   ]
  },
  {
   "cell_type": "markdown",
   "metadata": {},
   "source": [
    "### Training model "
   ]
  },
  {
   "cell_type": "code",
   "execution_count": 35,
   "metadata": {},
   "outputs": [
    {
     "name": "stderr",
     "output_type": "stream",
     "text": [
      "25/04/11 00:21:08 WARN InstanceBuilder: Failed to load implementation from:dev.ludovic.netlib.blas.JNIBLAS\n"
     ]
    }
   ],
   "source": [
    "model = LogisticRegressionWithLBFGS.train(\n",
    "    train_data,\n",
    "    iterations=150,  # Number of iterations\n",
    "    regParam=0.001,   # Regularization parameter\n",
    "    regType='l2',    # Type of regularization (L2)\n",
    "    intercept=True   # Whether to add intercept\n",
    ")"
   ]
  },
  {
   "cell_type": "markdown",
   "metadata": {},
   "source": [
    "### Testing model"
   ]
  },
  {
   "cell_type": "code",
   "execution_count": 36,
   "metadata": {},
   "outputs": [],
   "source": [
    "predictions = test_data.map(lambda lp: (float(model.predict(lp.features)), lp.label))"
   ]
  },
  {
   "cell_type": "markdown",
   "metadata": {},
   "source": [
    "### Evaluation"
   ]
  },
  {
   "cell_type": "code",
   "execution_count": 42,
   "metadata": {},
   "outputs": [
    {
     "name": "stdout",
     "output_type": "stream",
     "text": [
      "\n",
      "Accuracy: 0.946524064171123\n",
      "Precision (Fraud): 0.9390243902439024\n",
      "Recall (Fraud): 0.9390243902439024\n",
      "\n",
      "AUC: 0.9457026713124274\n"
     ]
    }
   ],
   "source": [
    "multiclass_metrics = MulticlassMetrics(predictions)\n",
    "\n",
    "print(\"\\nAccuracy:\", multiclass_metrics.accuracy)\n",
    "print(\"Precision (Fraud):\", multiclass_metrics.precision(1.0))\n",
    "print(\"Recall (Fraud):\", multiclass_metrics.recall(1.0))\n",
    "binary_metrics = BinaryClassificationMetrics(predictions)\n",
    "print(\"\\nAUC:\", binary_metrics.areaUnderROC)"
   ]
  }
 ],
 "metadata": {
  "kernelspec": {
   "display_name": "PratiquEdu",
   "language": "python",
   "name": "python3"
  },
  "language_info": {
   "codemirror_mode": {
    "name": "ipython",
    "version": 3
   },
   "file_extension": ".py",
   "mimetype": "text/x-python",
   "name": "python",
   "nbconvert_exporter": "python",
   "pygments_lexer": "ipython3",
   "version": "3.10.16"
  }
 },
 "nbformat": 4,
 "nbformat_minor": 2
}
