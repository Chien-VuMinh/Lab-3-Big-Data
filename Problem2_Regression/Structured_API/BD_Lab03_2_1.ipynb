{
  "cells": [
    {
      "cell_type": "markdown",
      "source": [
        "# Problem2_Regression - Structured_API"
      ],
      "metadata": {
        "id": "VQ6GHNTixIxI"
      }
    },
    {
      "cell_type": "code",
      "execution_count": 1,
      "metadata": {
        "id": "R_JGt50GxNAe"
      },
      "outputs": [],
      "source": [
        "from pyspark.sql import SparkSession\n",
        "from pyspark.ml.feature import VectorAssembler, StandardScaler\n",
        "from pyspark.sql.functions import col, sum\n",
        "from pyspark.ml.regression import DecisionTreeRegressor\n",
        "from pyspark.ml.evaluation import RegressionEvaluator\n",
        "\n",
        "import matplotlib.pyplot as plt"
      ]
    },
    {
      "cell_type": "markdown",
      "source": [
        "## Tạo session"
      ],
      "metadata": {
        "id": "xL3wnhGdudn3"
      }
    },
    {
      "cell_type": "code",
      "execution_count": 2,
      "metadata": {
        "id": "1uwdT_baxNAf"
      },
      "outputs": [],
      "source": [
        "spark = SparkSession.builder.appName(\"BD_Lab03_2.1\").getOrCreate()"
      ]
    },
    {
      "cell_type": "markdown",
      "source": [
        "## Nhập dữ liệu"
      ],
      "metadata": {
        "id": "4wFQOMw3umev"
      }
    },
    {
      "cell_type": "code",
      "execution_count": 3,
      "metadata": {
        "id": "mhz6zVHnxNAg"
      },
      "outputs": [],
      "source": [
        "train_path = \"/content/train.csv\"\n",
        "test_path = \"/content/test.csv\"\n",
        "train_data = spark.read.csv(train_path, header=True, inferSchema=True)\n",
        "test_data = spark.read.csv(test_path, header=True, inferSchema=True)"
      ]
    },
    {
      "cell_type": "code",
      "execution_count": 4,
      "metadata": {
        "colab": {
          "base_uri": "https://localhost:8080/"
        },
        "id": "iQsqDJaBxNAg",
        "outputId": "ad3834e1-af6c-453b-82df-62efd07ef5fe"
      },
      "outputs": [
        {
          "output_type": "stream",
          "name": "stdout",
          "text": [
            "+---------+---------+-------------------+-------------------+---------------+------------------+------------------+------------------+------------------+------------------+-------------+\n",
            "|       id|vendor_id|    pickup_datetime|   dropoff_datetime|passenger_count|  pickup_longitude|   pickup_latitude| dropoff_longitude|  dropoff_latitude|store_and_fwd_flag|trip_duration|\n",
            "+---------+---------+-------------------+-------------------+---------------+------------------+------------------+------------------+------------------+------------------+-------------+\n",
            "|id2875421|        2|2016-03-14 17:24:55|2016-03-14 17:32:30|              1| -73.9821548461914| 40.76793670654297|-73.96463012695312|40.765602111816406|                 N|          455|\n",
            "|id2377394|        1|2016-06-12 00:43:35|2016-06-12 00:54:38|              1|-73.98041534423828|40.738563537597656|-73.99948120117188| 40.73115158081055|                 N|          663|\n",
            "|id3858529|        2|2016-01-19 11:35:24|2016-01-19 12:10:48|              1| -73.9790267944336|40.763938903808594|-74.00533294677734|40.710086822509766|                 N|         2124|\n",
            "|id3504673|        2|2016-04-06 19:32:31|2016-04-06 19:39:40|              1|-74.01004028320312|   40.719970703125|-74.01226806640625| 40.70671844482422|                 N|          429|\n",
            "|id2181028|        2|2016-03-26 13:30:55|2016-03-26 13:38:10|              1|-73.97305297851562|40.793209075927734| -73.9729232788086| 40.78252029418945|                 N|          435|\n",
            "+---------+---------+-------------------+-------------------+---------------+------------------+------------------+------------------+------------------+------------------+-------------+\n",
            "only showing top 5 rows\n",
            "\n",
            "+---------+---------+-------------------+---------------+------------------+-----------------+------------------+------------------+------------------+\n",
            "|       id|vendor_id|    pickup_datetime|passenger_count|  pickup_longitude|  pickup_latitude| dropoff_longitude|  dropoff_latitude|store_and_fwd_flag|\n",
            "+---------+---------+-------------------+---------------+------------------+-----------------+------------------+------------------+------------------+\n",
            "|id3004672|        1|2016-06-30 23:59:58|              1|-73.98812866210938|40.73202896118164|-73.99017333984375| 40.75667953491211|                 N|\n",
            "|id3505355|        1|2016-06-30 23:59:53|              1|-73.96420288085938|40.67999267578125|-73.95980834960938| 40.65540313720703|                 N|\n",
            "|id1217141|        1|2016-06-30 23:59:47|              1| -73.9974365234375|40.73758316040039|-73.98616027832031|40.729522705078125|                 N|\n",
            "|id2150126|        2|2016-06-30 23:59:41|              1|-73.95606994628906|40.77190017700195| -73.9864273071289|       40.73046875|                 N|\n",
            "|id1598245|        1|2016-06-30 23:59:33|              1|   -73.97021484375|  40.761474609375|-73.96150970458984|40.755889892578125|                 N|\n",
            "+---------+---------+-------------------+---------------+------------------+-----------------+------------------+------------------+------------------+\n",
            "only showing top 5 rows\n",
            "\n"
          ]
        }
      ],
      "source": [
        "train_data.show(5)\n",
        "test_data.show(5)"
      ]
    },
    {
      "cell_type": "markdown",
      "source": [
        "## Xử lý dữ liệu"
      ],
      "metadata": {
        "id": "9OM3AvmDuq3c"
      }
    },
    {
      "cell_type": "code",
      "source": [
        "train_data.select(\"trip_duration\").describe().show()"
      ],
      "metadata": {
        "colab": {
          "base_uri": "https://localhost:8080/"
        },
        "id": "ssmovxh0z6dY",
        "outputId": "283d6bd8-d030-42f5-84f8-14f23b028b7d"
      },
      "execution_count": 5,
      "outputs": [
        {
          "output_type": "stream",
          "name": "stdout",
          "text": [
            "+-------+------------------+\n",
            "|summary|     trip_duration|\n",
            "+-------+------------------+\n",
            "|  count|            648112|\n",
            "|   mean| 953.1683227590293|\n",
            "| stddev|3958.4636896700295|\n",
            "|    min|                 1|\n",
            "|    max|           1939736|\n",
            "+-------+------------------+\n",
            "\n"
          ]
        }
      ]
    },
    {
      "cell_type": "markdown",
      "source": [
        "Có thể thấy được rằng độ lệch chuẩn của trip_duration rất cao => xuất hiện outlier. Cần phải lọc lại dữ liệu."
      ],
      "metadata": {
        "id": "iY38K9_Rx-_c"
      }
    },
    {
      "cell_type": "markdown",
      "source": [
        "## Loại bỏ outliers"
      ],
      "metadata": {
        "id": "w1CJu05W1sZU"
      }
    },
    {
      "cell_type": "code",
      "source": [
        "# Tính Q1 và Q3\n",
        "quantiles = train_data.approxQuantile(\"trip_duration\", [0.25, 0.75], 0.01)\n",
        "Q1, Q3 = quantiles\n",
        "IQR = Q3 - Q1\n",
        "\n",
        "lower_bound = Q1 - 1.5 * IQR\n",
        "upper_bound = Q3 + 1.5 * IQR\n",
        "\n",
        "# Lọc bỏ outliers\n",
        "clean_data = train_data.filter((col(\"trip_duration\") >= lower_bound) & (col(\"trip_duration\") <= upper_bound))"
      ],
      "metadata": {
        "id": "xh3VedLOvOGG"
      },
      "execution_count": 6,
      "outputs": []
    },
    {
      "cell_type": "code",
      "source": [
        "train_data = clean_data\n",
        "train_data.select(\"trip_duration\").describe().show()"
      ],
      "metadata": {
        "colab": {
          "base_uri": "https://localhost:8080/"
        },
        "id": "-D9_yMThz2n7",
        "outputId": "57581746-9442-4796-f4a1-614791392543"
      },
      "execution_count": 7,
      "outputs": [
        {
          "output_type": "stream",
          "name": "stdout",
          "text": [
            "+-------+----------------+\n",
            "|summary|   trip_duration|\n",
            "+-------+----------------+\n",
            "|  count|          614375|\n",
            "|   mean|730.054691353001|\n",
            "| stddev|445.827222197628|\n",
            "|    min|               1|\n",
            "|    max|            2072|\n",
            "+-------+----------------+\n",
            "\n"
          ]
        }
      ]
    },
    {
      "cell_type": "markdown",
      "source": [
        "Sau khi loại bỏ outlier, thì độ lệch chuẩn đã giảm đi rất nhiều."
      ],
      "metadata": {
        "id": "_su-5WepzGh5"
      }
    },
    {
      "cell_type": "markdown",
      "source": [
        "## Nhóm các cột numeric thành 1 vector"
      ],
      "metadata": {
        "id": "RdRGX5FEvNpe"
      }
    },
    {
      "cell_type": "code",
      "execution_count": 8,
      "metadata": {
        "id": "EpoRX8_KxNAg"
      },
      "outputs": [],
      "source": [
        "assembler = VectorAssembler(\n",
        "    inputCols=[\"passenger_count\", \"pickup_longitude\", \"pickup_latitude\", \"dropoff_longitude\", \"dropoff_latitude\"],\n",
        "    outputCol=\"features\"\n",
        ")\n",
        "train_data = assembler.transform(train_data)\n",
        "test_data = assembler.transform(test_data)"
      ]
    },
    {
      "cell_type": "code",
      "execution_count": 9,
      "metadata": {
        "id": "kBJA54LlxNAh"
      },
      "outputs": [],
      "source": [
        "train_data = train_data.select(\"features\", \"trip_duration\")"
      ]
    },
    {
      "cell_type": "markdown",
      "source": [
        "## Chia tập dữ liệu để validation"
      ],
      "metadata": {
        "id": "718v8VOk75Rc"
      }
    },
    {
      "cell_type": "code",
      "execution_count": 10,
      "metadata": {
        "id": "ww_Ku1chxNAh"
      },
      "outputs": [],
      "source": [
        "train_train_data, val_train_data = train_data.randomSplit([0.8, 0.2], seed=42)"
      ]
    },
    {
      "cell_type": "markdown",
      "source": [
        "## Sử dụng mô hình DecisionTreeRegressor"
      ],
      "metadata": {
        "id": "F8m4yxNM6bQz"
      }
    },
    {
      "cell_type": "code",
      "execution_count": 11,
      "metadata": {
        "id": "lLnAPuRPxNAh"
      },
      "outputs": [],
      "source": [
        "dt = DecisionTreeRegressor(featuresCol=\"features\",\n",
        "                            labelCol=\"trip_duration\",\n",
        "                              maxDepth=20,\n",
        "                                impurity=\"variance\")\n",
        "model = dt.fit(train_train_data)\n"
      ]
    },
    {
      "cell_type": "code",
      "execution_count": 17,
      "metadata": {
        "colab": {
          "base_uri": "https://localhost:8080/"
        },
        "id": "v6snYrKBxNAi",
        "outputId": "c8cec6aa-e67c-449b-c338-34dcefd11626"
      },
      "outputs": [
        {
          "output_type": "stream",
          "name": "stdout",
          "text": [
            "Feature Importances:\n",
            "passenger_count: 0.017552\n",
            "pickup_longitude: 0.214884\n",
            "pickup_latitude: 0.330539\n",
            "dropoff_longitude: 0.198280\n",
            "dropoff_latitude: 0.238744\n"
          ]
        }
      ],
      "source": [
        "importances = model.featureImportances\n",
        "cols_name = [\"passenger_count\", \"pickup_longitude\", \"pickup_latitude\", \"dropoff_longitude\", \"dropoff_latitude\"]\n",
        "\n",
        "print(\"Feature Importances:\")\n",
        "importances_list = importances.toArray()\n",
        "for i in range(len(cols_name)):\n",
        "  print(f\"{cols_name[i]}: {importances_list[i]:6f}\")\n"
      ]
    },
    {
      "cell_type": "markdown",
      "source": [
        "| Đặc trưng             | Độ quan trọng | Nhận xét                                                                 |\n",
        "|------------------------|----------------|-------------------------------------------------------------------------|\n",
        "| `pickup_latitude`      | **0.3305**     | Là đặc trưng quan trọng nhất.    |\n",
        "| `dropoff_latitude`     | 0.2387         | Cũng rất quan trọng.             |\n",
        "| `pickup_longitude`     | 0.2149         | Có vai trò lớn.                                |\n",
        "| `dropoff_longitude`    | 0.1983         | Gần tương đương pickup_longitude.                     |\n",
        "| `passenger_count`      | **0.0176**     | Ảnh hưởng rất nhỏ, gần như không giúp ích nhiều cho mô hình.          |\n",
        "\n"
      ],
      "metadata": {
        "id": "N-Rabqhq3l2x"
      }
    },
    {
      "cell_type": "markdown",
      "source": [
        "## Đánh giá mô hình"
      ],
      "metadata": {
        "id": "L_kwOlcLzcRz"
      }
    },
    {
      "cell_type": "code",
      "execution_count": 13,
      "metadata": {
        "id": "tT_tcxkmxNAi"
      },
      "outputs": [],
      "source": [
        "predictions = model.transform(val_train_data)"
      ]
    },
    {
      "cell_type": "code",
      "execution_count": 14,
      "metadata": {
        "colab": {
          "base_uri": "https://localhost:8080/"
        },
        "id": "iJKUI6RmxNAi",
        "outputId": "abbef463-7523-4f16-a14e-cf0e5ee1490e"
      },
      "outputs": [
        {
          "output_type": "stream",
          "name": "stdout",
          "text": [
            "RMSE: 294.281568\n",
            "R²: 0.565827\n"
          ]
        }
      ],
      "source": [
        "evaluator_rmse = RegressionEvaluator(labelCol=\"trip_duration\", predictionCol=\"prediction\", metricName=\"rmse\")\n",
        "evaluator_r2 = RegressionEvaluator(labelCol=\"trip_duration\", predictionCol=\"prediction\", metricName=\"r2\")\n",
        "\n",
        "rmse = evaluator_rmse.evaluate(predictions)\n",
        "r2 = evaluator_r2.evaluate(predictions)\n",
        "\n",
        "print(f\"RMSE: {rmse:6f}\")\n",
        "print(f\"R²: {r2:6f}\")\n"
      ]
    },
    {
      "cell_type": "markdown",
      "source": [
        "- RMSE ở mức khá cao, có thể do dữ liệu có độ phân tán lớn hoặc còn thiếu đặc trưng quan trọng.\n",
        "- R² chưa đạt mức cao, mô hình chưa thể hiện tốt mối quan hệ giữa các đặc trưng."
      ],
      "metadata": {
        "id": "IaQZZiqK5jhV"
      }
    },
    {
      "cell_type": "code",
      "execution_count": 18,
      "metadata": {
        "id": "4dpA7HVwxNAi"
      },
      "outputs": [],
      "source": [
        "predictions = model.transform(test_data)"
      ]
    },
    {
      "cell_type": "code",
      "source": [
        "output = predictions.select(col(\"id\"), col(\"prediction\"))"
      ],
      "metadata": {
        "id": "cQrQFxNI4XIC"
      },
      "execution_count": 26,
      "outputs": []
    },
    {
      "cell_type": "code",
      "source": [
        "output.toPandas().to_csv(\"results.csv\", index=False)"
      ],
      "metadata": {
        "id": "o740PZvm2YjH"
      },
      "execution_count": 27,
      "outputs": []
    }
  ],
  "metadata": {
    "kernelspec": {
      "display_name": "base",
      "language": "python",
      "name": "python3"
    },
    "language_info": {
      "codemirror_mode": {
        "name": "ipython",
        "version": 3
      },
      "file_extension": ".py",
      "mimetype": "text/x-python",
      "name": "python",
      "nbconvert_exporter": "python",
      "pygments_lexer": "ipython3",
      "version": "3.12.9"
    },
    "colab": {
      "provenance": []
    }
  },
  "nbformat": 4,
  "nbformat_minor": 0
}